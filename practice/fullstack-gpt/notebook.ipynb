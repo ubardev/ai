{
 "cells": [
  {
   "cell_type": "code",
   "execution_count": 3,
   "metadata": {},
   "outputs": [
    {
     "data": {
      "text/plain": [
       "AIMessage(content=\"As a vegetarian chef, I can help you make a vegetarian version of Chicken Tikka Masala by replacing the chicken with a suitable alternative. In this case, you can use paneer, which is a popular Indian cheese that is firm in texture and holds up well in dishes like this. Here's how you can prepare the paneer as a substitute for chicken in this recipe:\\n\\n**Paneer Tikka Masala Recipe:**\\n\\n**Ingredients:**\\n- 1 lb paneer, cut into bite-sized cubes\\n- 1 cup plain yogurt\\n- 2 tablespoons lemon juice\\n- 2 tablespoons vegetable oil\\n- 1 onion, finely chopped\\n- 3 cloves garlic, minced\\n- 1 tablespoon ginger, minced\\n- 1 can (14 oz) tomato sauce\\n- 1 tablespoon garam masala\\n- 1 teaspoon ground cumin\\n- 1 teaspoon ground coriander\\n- 1 teaspoon paprika\\n- 1/2 teaspoon turmeric\\n- 1/2 teaspoon cayenne pepper (adjust to taste)\\n- Salt and pepper to taste\\n- Fresh cilantro, chopped (for garnish)\\n- Cooked rice or naan bread (to serve)\\n\\n**Instructions:**\\n1. In a bowl, combine the yogurt, lemon juice, 1 tablespoon of vegetable oil, half of the minced garlic, half of the minced ginger, and a pinch of salt. Add the paneer cubes and mix well to coat. Cover and marinate in the refrigerator for at least 1 hour, or overnight for best results.\\n\\n2. Preheat the oven to 400°F (200°C). Thread the marinated paneer cubes onto skewers and place them on a baking sheet lined with foil. Bake for 15-20 minutes, or until the paneer is slightly browned around the edges.\\n\\n3. In a large skillet, heat the remaining tablespoon of vegetable oil over medium heat. Add the chopped onion and cook until softened, about 5 minutes. Add the remaining garlic and ginger, and cook for another minute until fragrant.\\n\\n4. Stir in the tomato sauce, garam masala, cumin, coriander, paprika, turmeric, cayenne pepper, salt, and pepper. Simmer the sauce for about 10 minutes, stirring occasionally.\\n\\n5. Add the cooked paneer tikka to the sauce and simmer for an additional 5-10 minutes to allow the flavors to meld together.\\n\\n6. Serve the Paneer Tikka Masala over cooked rice or with naan bread. Garnish with chopped cilantro and enjoy!\\n\\nBy using paneer instead of chicken, you can still enjoy the rich and flavorful dish while keeping it vegetarian-friendly. Enjoy your delicious Paneer Tikka Masala!\")"
      ]
     },
     "execution_count": 3,
     "metadata": {},
     "output_type": "execute_result"
    }
   ],
   "source": [
    "from langchain.chat_models import ChatOpenAI\n",
    "from langchain.prompts import ChatPromptTemplate\n",
    "from langchain.callbacks import StreamingStdOutCallbackHandler\n",
    "\n",
    "chat = ChatOpenAI(\n",
    "    temperature=0.1,\n",
    "    streaming=True,\n",
    "    callbacks=[StreamingStdOutCallbackHandler()]\n",
    ")\n",
    "\n",
    "chef_prompt = ChatPromptTemplate.from_messages([\n",
    "    (\"system\", \"You are a world-class international chef. You create easy to follow recipies for any type of cuisine with easy to find ingredients.\"),\n",
    "    (\"human\", \"I want to cook {cuisine} food.\"),\n",
    "])\n",
    "\n",
    "chef_chain = chef_prompt | chat\n",
    "\n",
    "veg_chef_prompt = ChatPromptTemplate.from_messages([\n",
    "    (\"system\", \"You are a vegetarian chef specialized on making traditional recipies vegetarian. You find alternative ingredients and explain their preparation. You don't radically modify the recipe. If there is no alternative for a food just say you don't know how to replace it.\"),\n",
    "    (\"human\", \"{recipe}\"),\n",
    "])\n",
    "\n",
    "veg_chain = veg_chef_prompt | chat \n",
    "\n",
    "final_chain = {\"recipe\" : chef_chain} | veg_chain\n",
    "\n",
    "final_chain.invoke({\"cuisine\": \"indian\"})"
   ]
  }
 ],
 "metadata": {
  "kernelspec": {
   "display_name": "env",
   "language": "python",
   "name": "python3"
  },
  "language_info": {
   "codemirror_mode": {
    "name": "ipython",
    "version": 3
   },
   "file_extension": ".py",
   "mimetype": "text/x-python",
   "name": "python",
   "nbconvert_exporter": "python",
   "pygments_lexer": "ipython3",
   "version": "3.11.12"
  }
 },
 "nbformat": 4,
 "nbformat_minor": 2
}
